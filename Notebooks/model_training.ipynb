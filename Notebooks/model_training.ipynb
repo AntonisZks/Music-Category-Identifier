{
 "cells": [
  {
   "cell_type": "markdown",
   "id": "9532a126-38b8-4ca3-823b-ca14e2021f20",
   "metadata": {},
   "source": [
    "<h1><center><b>Εκπαίδευση Μοντέλου Μηχανικής Μάθησης</b></center></h1>"
   ]
  },
  {
   "cell_type": "markdown",
   "id": "7e184b4e-a7b3-4bf9-b20a-c90397827a77",
   "metadata": {},
   "source": [
    "Στη παρούσα φάση έχουμε δημιουργήσει τα δεδομένα με τα οποία θα εκπαιδεύσουμε και θα αξιολογήσουμε το μοντέλο μηχανικής μάθησης. Ήρθε λοιπόν η ώρα να δημιουργήσουμε αυτό το μοντέλο και να το εκπαιδεύσουμε με τα δεδομένα μας."
   ]
  },
  {
   "cell_type": "markdown",
   "id": "5daa283c-7a1f-4bdd-9a1d-81e8a663c042",
   "metadata": {},
   "source": [
    "Για τη __δημιουργία__ και __εκπαίδευση__ του μοντέλου, θα χρησιμοποιήσουμε το εργαλείο [PyTorch][pytorch_link] της Python, μία __βιβλιοθήκη__ ειδικά σχεδιασμένη για __τεχνητή νοημοσήνη__, η οποία περιέχει χρήσιμα _εργαλεία_ και απαραίτητους _αλγορίθμους_ __μηχανικής μάθησης__.\n",
    "\n",
    "<center><img src=\"https://assets-global.website-files.com/5f6bc60e665f54db361e52a9/637f8955a0d9698c6d768464_pytorch-logo.jpeg\" width=500></center>\n",
    "\n",
    "[pytorch_link]: https://pytorch.org/"
   ]
  },
  {
   "cell_type": "markdown",
   "id": "186ac2b5-fef9-453c-bf00-6ca11df39f0b",
   "metadata": {},
   "source": [
    "## Αναπαραγωγιμότητα (Reproducibility)"
   ]
  },
  {
   "cell_type": "markdown",
   "id": "4f665cb9-739a-4bf2-8850-db8211d434b5",
   "metadata": {},
   "source": [
    "Αρχικά θα φροντίσουμε να πληρείται το φαινόμενο της [__αναπαραγωγιμότητας__][reproducibility_link] (reproducibility), το οποίο συνεπάγεται στο ότι κάθε φορά θα έχουμε τις __ίδιες__ ακριβώς __συνθήκες__ κατά τη διαδικασία __εκπαίδευσης__ του μοντέλου. Αυτό σημαίνει πως η __αρχικοποίηση__ των __βαρών__ και η __σειρά__ των δεδομένων στα _batches_ θα να είναι κάθε φορά ίδια, ώστε η επίδοση του νευρωνικού δικτύου που θα κατασκευάσουμε, να μην εξαρτάται από κάποιο καλύτερο __σημείο αρχικοποίησης__ ή κάποια __ευνοϊκότερη διαχείριση__ των δεδομένων. Για το λόγο αυτό θα χρησιμοποιήσουμε _συγκεκριμένη μήτρα τυχαιότητας_ για όλες τις απαραίτητες βιβλιοθήκες και αλγορίθμους ως εξής:\n",
    "\n",
    "[reproducibility_link]: https://blog.ml.cmu.edu/2020/08/31/5-reproducibility/"
   ]
  },
  {
   "cell_type": "code",
   "execution_count": 1,
   "id": "56b935bf-4725-44ae-b08e-7e23a1d5039c",
   "metadata": {},
   "outputs": [],
   "source": [
    "import os\n",
    "import torch\n",
    "import numpy as np\n",
    "import random\n",
    "\n",
    "seed = 23472642 # Set the seed\n",
    "\n",
    "def initialize_seed():\n",
    "    \"\"\" Initializes the seed for later use \"\"\"\n",
    "\n",
    "    # Apply the seed to Numpy and Random modules\n",
    "    np.random.seed(seed)\n",
    "    random.seed(seed)\n",
    "\n",
    "    # Apply the seed to PyTorch\n",
    "    torch.manual_seed(seed)\n",
    "    torch.cuda.manual_seed(seed)\n",
    "    torch.cuda.manual_seed_all(seed)\n",
    "    torch.backends.cudnn.benchmark = False\n",
    "    torch.backends.cudnn.deterministic = True\n",
    "\n",
    "    # Set the operating system python seed\n",
    "    os.environ['PYTHONHASHSEED'] = str(seed)"
   ]
  },
  {
   "cell_type": "markdown",
   "id": "28d802dd-2aa6-4eac-a788-51ff846c89f4",
   "metadata": {},
   "source": [
    "Την παραπάνω συνάρτηση θα τη χρησιμοποιούμε κάθε φορά που θέλουμε να εκπαιδεύσουμε ένα μοντέλο μηχανικής μάθησης."
   ]
  },
  {
   "cell_type": "markdown",
   "id": "0a24a362-e3bf-48fd-9066-c247b753b987",
   "metadata": {},
   "source": [
    "## Σύνδεση σε συσκευή CPU ή GPU (CUDA) 🔗"
   ]
  },
  {
   "cell_type": "markdown",
   "id": "5d6fd438-dae4-4da8-aeed-bfecfbdacf45",
   "metadata": {},
   "source": [
    "Στη συνέχεια θα φροντίσουμε να χρησιμοποιήσουμε την κατάλληλη __συσκευή__ __CPU__ ή __GPU__ του τοπικού μας υπολογιστή. Αξίζει να αναφερθεί πως η χρήση __GPU__ σε αυτό το σημείο είναι αναπόφεχτη καθώς οι διάφοροι αλγόριθμοι που θα εκτελέσουμε αργότερα απαιτούν μεγάλο __υπολογιστικό φόρτο__ με αποτέλεσμα να έχουν __μεγάλο χρόνο__ διάρκειας η εκτέλεσή τους. Επομένως εάν έχετε διαθέσιμη GPU στον υπολογιστή σας, φροντίστε να την αξιοποιήσετε."
   ]
  },
  {
   "cell_type": "code",
   "execution_count": 2,
   "id": "a7d00346-2492-4104-b5e1-98d36aa17929",
   "metadata": {},
   "outputs": [
    {
     "name": "stdout",
     "output_type": "stream",
     "text": [
      "Pytorch connected to cuda\n"
     ]
    }
   ],
   "source": [
    "import torch\n",
    "\n",
    "device = torch.device('cuda' if torch.cuda.is_available() else 'cpu')\n",
    "print(f'Pytorch connected to {device}')"
   ]
  },
  {
   "cell_type": "markdown",
   "id": "52523fff-e6f4-450c-be69-92ed1fe3acda",
   "metadata": {},
   "source": [
    "## Βοηθητικές Προσθήκες ➕✅"
   ]
  },
  {
   "cell_type": "markdown",
   "id": "43dbbda0-5a89-4bf8-8103-a550c6e9b98d",
   "metadata": {},
   "source": [
    "Για άλλη μία φορά θα ορίσουμε μερικές βοηθητικές προσθήκες για την συνέχεια."
   ]
  },
  {
   "cell_type": "code",
   "execution_count": 3,
   "id": "2d1b6987-5032-46ce-8ae5-43313488e1d3",
   "metadata": {},
   "outputs": [],
   "source": [
    "import os\n",
    "from graphics import *\n",
    "\n",
    "def resource_path(relative_path):\n",
    "    \"\"\" Supporting function to receive the full path of a destination, on the current system. Provided from: \n",
    "        https://stackoverflow.com/questions/31836104/pyinstaller-and-onefile-how-to-include-an-image-in-the-exe-file \"\"\"\n",
    "    \n",
    "    try:\n",
    "        base_path = sys._MEIPASS2\n",
    "    except Exception:\n",
    "        base_path = os.path.abspath(\".\")\n",
    "\n",
    "    return os.path.join(base_path, relative_path)\n",
    "\n",
    "invert_colors = False # Change the value according to your preferences\n",
    "\n",
    "custom_cmap = invert_colormap if invert_colors else get_colormap\n",
    "custom_hex_color = invert_hex_color if invert_colors else get_hex_color"
   ]
  },
  {
   "cell_type": "markdown",
   "id": "616e49c2-e34d-4c14-a71c-b1d4378a0184",
   "metadata": {},
   "source": [
    "## Φόρτωση Δεδομένων (Mel-Spectrograms)"
   ]
  },
  {
   "cell_type": "markdown",
   "id": "38ea97f1-6a2d-47cf-aeaa-7b88bf06ec91",
   "metadata": {},
   "source": [
    "Στη συνέχεια θα φορτώσουμε τα δεδομένα μας και θα τα αποθηκεύσουμε σε __κετάλληλες δομές__. Ας ξεκινήσουμε αρχικοποιώντας τα __μονοπάτια__ στα οποία βρίσκονται τα δεδομένα μας."
   ]
  },
  {
   "cell_type": "code",
   "execution_count": 4,
   "id": "e5be947b-8d4a-4367-abee-af75ec974241",
   "metadata": {},
   "outputs": [
    {
     "name": "stdout",
     "output_type": "stream",
     "text": [
      "Data are located to: E:\\Antonis\\Programming\\Python\\MyProjects\\AI - Machine Learning\\Music_Identifier\\Notebooks\\../Data/Spectrograms\n"
     ]
    }
   ],
   "source": [
    "# Define base, and data folder path\n",
    "base_folder = resource_path('../')\n",
    "data_folder = base_folder + 'Data/Spectrograms'\n",
    "\n",
    "print('Data are located to: ' + data_folder)"
   ]
  },
  {
   "cell_type": "markdown",
   "id": "c8f7af0a-a68a-4a4c-89e0-4732d2161c41",
   "metadata": {},
   "source": [
    "Αφού αρχικοποιήσουμε τους φακέλους στους οποίους βρίσκονται τα δεδομένα μας, ας αποθηκεύσουμε τα μονοπάτια των __αρχείων__ που περιέχουν τα δεδομένα."
   ]
  },
  {
   "cell_type": "code",
   "execution_count": 5,
   "id": "66b51445-1571-4ee6-8207-8b456447e306",
   "metadata": {},
   "outputs": [
    {
     "name": "stdout",
     "output_type": "stream",
     "text": [
      "Data are located to: E:\\Antonis\\Programming\\Python\\MyProjects\\AI - Machine Learning\\Music_Identifier\\Notebooks\\../Data/Spectrograms/data.npy\n",
      "Labels are located to: E:\\Antonis\\Programming\\Python\\MyProjects\\AI - Machine Learning\\Music_Identifier\\Notebooks\\../Data/Spectrograms/labels.npy\n"
     ]
    }
   ],
   "source": [
    "# Store the data and label files\n",
    "data_file = data_folder + '/data.npy'\n",
    "labels_file = data_folder + '/labels.npy'\n",
    "\n",
    "print('Data are located to: ' + data_file)\n",
    "print('Labels are located to: ' + labels_file)"
   ]
  },
  {
   "cell_type": "markdown",
   "id": "4df1d4e0-0732-402d-b3a1-15c07086fe48",
   "metadata": {},
   "source": [
    "Έχοντας στα χέρια μας τα αρχεία που περιέχουν τα δεδομένα μας ας τα φορτώσουμε στο project και ας τα αποθηκεύσουμε."
   ]
  },
  {
   "cell_type": "code",
   "execution_count": 6,
   "id": "9dcd1c4b-a78f-4cc7-ba81-dfb924fe6d46",
   "metadata": {},
   "outputs": [],
   "source": [
    "import numpy as np\n",
    "\n",
    "# Load the spectrograms and the labels\n",
    "data = np.load(data_file)\n",
    "labels = np.load(labels_file)\n"
   ]
  },
  {
   "cell_type": "markdown",
   "id": "4a44269a-1fb7-466d-8c57-e9f5b8680660",
   "metadata": {},
   "source": [
    "## Διαχωρισμός των δεδομένων σε training, validating, και testing 📤⚙️"
   ]
  },
  {
   "cell_type": "markdown",
   "id": "fd88e000-b282-43ec-a360-d756dd02cecf",
   "metadata": {},
   "source": [
    "Για να μπορέσουμε να εκπαιδεύσουμε το μοντέλο μας, θα πρέπει να __χωρίσουμε__ τα δεδομένα μας σε δεδομένα __εκπαίδευσης__ (training), __επικύρωσης__ (validating) και __αξιολόγησης__ (testing). Για τον λόγο αυτό θα χρησιμοποιήσουμε την έτοιμη συνάρτηση `train_test_split()` της βιβλιοθήκης [Scikit-learn][sklearn_link], η οποία έχει σχεδιαστεί γι' αυτόν ακριβώς τον σκοπό. Σε ένα πρόβλημα μηχανικής μάθησης οφείλουμε να διαχωρίσουμε τα δεδομένα μας σε train και αξιοόγησης με τέτοιο τρόπο που να πετυχαίνουμε όσο το δυνατό καλύτερες επιδόσεις. Μία καλή διαμέριση των δεδομένων είναι __70-80% training data__ και __20-30% testing data__. Παρομοίως τα validating data οφείλουν να αποτελούν περίπου το __20-30%__ των __δεδομένων εκπαίδευσης__.\n",
    "\n",
    "[sklearn_link]: https://scikit-learn.org/stable/"
   ]
  },
  {
   "cell_type": "code",
   "execution_count": 7,
   "id": "515cbb90-596a-4175-aae1-4d2867b9a953",
   "metadata": {},
   "outputs": [
    {
     "name": "stdout",
     "output_type": "stream",
     "text": [
      "Testing Data: 20.01%\n",
      "Training Data: 63.99%\n",
      "Validating Data: 16.00%\n"
     ]
    }
   ],
   "source": [
    "from sklearn.model_selection import train_test_split\n",
    "\n",
    "# Split the data to training, validating and testing data.\n",
    "train_data, test_data, train_labels, test_labels = train_test_split(data, labels, test_size=0.2)\n",
    "train_data, val_data, train_labels, val_labels = train_test_split(train_data, train_labels, test_size=0.20)\n",
    "\n",
    "print(f'Testing Data: {len(test_data)/len(data)*100:.02f}%')\n",
    "print(f'Training Data: {len(train_data)/len(data)*100:.02f}%')\n",
    "print(f'Validating Data: {len(val_data)/len(data)*100:.02f}%')"
   ]
  },
  {
   "cell_type": "markdown",
   "id": "63441753-21d8-4a40-a574-5c912b93ba53",
   "metadata": {},
   "source": [
    "Στο παραπάνω τμήμα κώδικα το __20%__ όλων των δεδομένων αποτελούνται από __testing data__ και το __20%__ των __training data__ αποτελείται από __validating data__. Ας οπτικοποιήσουμε αυτές τις διαμερίσεις για να τις καταλάβουμε καλύτερα."
   ]
  },
  {
   "cell_type": "code",
   "execution_count": 12,
   "id": "588991b6-3fad-4a7b-9e93-99aae3588c67",
   "metadata": {},
   "outputs": [
    {
     "data": {
      "image/png": "[encoded data removed]",
      "text/plain": [
       "<Figure size 1200x500 with 2 Axes>"
      ]
     },
     "metadata": {},
     "output_type": "display_data"
    }
   ],
   "source": [
    "from matplotlib import pyplot as plt\n",
    "\n",
    "train_size, val_size, test_size = len(train_data), len(val_data), len(test_data)\n",
    "plot_percentages = [train_size, val_size, test_size] \n",
    "plot_labels = ['Training Size', 'Validating Size', 'Testing Size']\n",
    "\n",
    "fig, axes = plt.subplots(1, 2, figsize=(12, 5))\n",
    "axes[0].bar(plot_labels, plot_percentages, width=0.5, color=custom_hex_color('#4194FF'))\n",
    "axes[0].set_ylim(0, len(data))\n",
    "\n",
    "axes[1].pie(plot_percentages, labels=plot_labels, autopct='%1.2f%%', wedgeprops={'linewidth': 0.3},\n",
    "            colors=[custom_hex_color('#4A7CEF'), custom_hex_color('#FF8324'), custom_hex_color('#35BA1A')])\n",
    "\n",
    "# fig.suptitle('\\nData Spliting Rating\\n', fontsize=20)\n",
    "plt.tight_layout()\n",
    "plt.show()"
   ]
  },
  {
   "cell_type": "markdown",
   "id": "7f6ab3ce-5811-42f6-9aa9-be1fc4ae3eee",
   "metadata": {},
   "source": [
    "Όπως είπαμε θα χρησιμοποιήσουμε τη βιβλιοθήκη __PyTorch__ της Python. Γι' αυτό το λόγο στη συνέχεια θα δημιουργήσουμε μία δικιά μας κλάση `MusicDataset` η οποία θα κληρονομεί την κλάση `Dataset` της __PyTorch__ και θα υλοποιεί τις απαραίτητες μεθόδους."
   ]
  },
  {
   "cell_type": "code",
   "execution_count": 9,
   "id": "30fe15da-c599-4c90-adf3-582f4d066be2",
   "metadata": {},
   "outputs": [],
   "source": [
    "import torch\n",
    "import numpy as np\n",
    "from torch.utils.data import Dataset\n",
    "\n",
    "class MusicDataset(Dataset):\n",
    "    \"\"\" Class that represents a music dataset extending the PyTorch Dataset \"\"\"\n",
    "\n",
    "    # Static Labels Transformation dictionaries\n",
    "    LABEL_TRANSFORMATION_DICT = {0: 'classical', 1: 'hiphop', 2: 'rock', 3: 'blues'}\n",
    "    LABEL_TRANSFORMATION_DICT_INVERT = {'classical': 0, 'hiphop': 1, 'rock': 2, 'blues': 3}\n",
    "\n",
    "    def __init__(self, data: np.array, labels: np.array) -> None:\n",
    "        \"\"\" Constructor of the Music Dataset. Initializes the data and the labels. \"\"\"\n",
    "\n",
    "        self.data = data\n",
    "        self.labels = labels\n",
    "\n",
    "        self.__transform_labels() # Make sure our labels are transformed into numbers\n",
    "\n",
    "    def __transform_labels(self) -> None:\n",
    "        \"\"\" Tranforms the labels of the dataset by changing the text into integer. \"\"\"\n",
    "\n",
    "        self.labels = np.array([MusicDataset.LABEL_TRANSFORMATION_DICT_INVERT[category] for category in self.labels])\n",
    "\n",
    "    def __len__(self) -> int:\n",
    "        \"\"\" Returns the length of the Dataset. \"\"\"\n",
    "\n",
    "        return len(self.data)\n",
    "\n",
    "    def __getitem__(self, index: int) -> tuple[torch.tensor, torch.tensor]:\n",
    "        \"\"\" Returns the data and label located at the given index inside the Dataset. \"\"\"\n",
    "\n",
    "        data_item = self.data[index]\n",
    "        label_item = self.labels[index]\n",
    "\n",
    "        return torch.tensor(data_item, dtype=torch.float32), torch.tensor(label_item, dtype=torch.long)"
   ]
  },
  {
   "cell_type": "markdown",
   "id": "1990ebf7-a944-4e3f-8b2f-754a81cdefdf",
   "metadata": {},
   "source": [
    "Στην παραπάνω υλοποίηση της κλάσης `MusicDataset` φροντίζουμε και __μετατρέπουμε__ τα αποθηκευμένα __labels__ σε __ακέραιους αριθμούς__ έτσι ώστε το νευρωνικό μας δίκτυο να μπορέσει να δουλέψει μόνο με νούμερα. Αυτό το επιτυγχάνουμεμε τη μέθοδο `__transform_labels()` η οποία καλείται με το δημιουργήσουμε κάποιο αντικείμενο της κλάσης. Συγκεκριμένα η αντιστοίχιση των labels σε ακέραιους αριθμούς γίνεται ως εξής:\n",
    "\n",
    "* 0 $\\rightarrow$ classical\n",
    "* 1 $\\rightarrow$ hiphop\n",
    "* 2 $\\rightarrow$ rock_metal_hardrock\n",
    "* 3 $\\rightarrow$ blues\n",
    "\n",
    "Έχοντας ορίσει την κλάση `MusicDataset`, ας δημιουργήσουμε **3 αντικείμενα** αυτής της κλάσης τα οποία θα αναπαριστούν τα training, validating, και testing data που έχουμε στην κατοχή μας."
   ]
  },
  {
   "cell_type": "code",
   "execution_count": 10,
   "id": "58031144-29b9-4357-981c-06283e81aab7",
   "metadata": {},
   "outputs": [],
   "source": [
    "# Define our datasets\n",
    "train_dataset = MusicDataset(train_data, train_labels)\n",
    "val_dataset = MusicDataset(val_data, val_labels)\n",
    "test_dataset = MusicDataset(test_data, test_labels)"
   ]
  },
  {
   "cell_type": "markdown",
   "id": "efe85a1a-92a0-4ac4-9a80-370279081b7e",
   "metadata": {},
   "source": [
    "Τέλος έχοντας ορίσει τα datasets μας, ας δημιουργήσουμε τα 3 [__Pytorch DataLoaders__][dataloder_link] (ένα για κάθε σύνολο δεδομένων) με `batch_size=16`, ώστε να μπορούν να χρησιμοποιηθούν στο μοντέλο μας. Θα δώσουμε επίσης το όρισμα `shuffle=True` για τα **train data** και **validation data**.\n",
    "\n",
    "[dataloder_link]: https://pytorch.org/tutorials/beginner/basics/data_tutorial.html"
   ]
  },
  {
   "cell_type": "code",
   "execution_count": 11,
   "id": "53f41110-a89f-4b9e-a804-62cc048da6c6",
   "metadata": {},
   "outputs": [],
   "source": [
    "from torch.utils.data import DataLoader\n",
    "\n",
    "# Construct our Data Loaders\n",
    "train_dataloader = DataLoader(train_dataset, batch_size=16, shuffle=True)\n",
    "val_dataloader = DataLoader(val_dataset, batch_size=16, shuffle=True)\n",
    "test_dataloader = DataLoader(test_dataset, batch_size=16, shuffle=False)"
   ]
  },
  {
   "cell_type": "markdown",
   "id": "10244f1d",
   "metadata": {},
   "source": [
    "<hr>"
   ]
  },
  {
   "cell_type": "markdown",
   "id": "a2aca398",
   "metadata": {},
   "source": [
    "## Ορισμός Μοντέλου - Νευρωνικό Δίκτυο (Neural network) 🤖🧠"
   ]
  },
  {
   "cell_type": "markdown",
   "id": "b609b210",
   "metadata": {},
   "source": [
    "Σε αυτό το project θα ασχοληθούμε συγκεκριμένα με [__συνελικτικά νευρωνικά δίκτυα__][cnn_link](Convolutional Neural Networks).\n",
    "\n",
    "[cnn_link]: https://en.wikipedia.org/wiki/Convolutional_neural_network"
   ]
  },
  {
   "cell_type": "code",
   "execution_count": null,
   "id": "dc421a32",
   "metadata": {},
   "outputs": [],
   "source": []
  }
 ],
 "metadata": {
  "kernelspec": {
   "display_name": "Python 3 (ipykernel)",
   "language": "python",
   "name": "python3"
  },
  "language_info": {
   "codemirror_mode": {
    "name": "ipython",
    "version": 3
   },
   "file_extension": ".py",
   "mimetype": "text/x-python",
   "name": "python",
   "nbconvert_exporter": "python",
   "pygments_lexer": "ipython3",
   "version": "3.11.3"
  }
 },
 "nbformat": 4,
 "nbformat_minor": 5
}
