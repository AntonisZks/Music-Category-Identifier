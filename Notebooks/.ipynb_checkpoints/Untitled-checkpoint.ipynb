{
 "cells": [
  {
   "cell_type": "markdown",
   "id": "8b2b357b-0fb3-4c72-96cc-185a270b08bf",
   "metadata": {},
   "source": [
    "<h1><center><b>Δημιουργία Δεδομένων Μοντέλου</b></center></h1>"
   ]
  },
  {
   "cell_type": "markdown",
   "id": "e6786c37-8e14-4079-851d-1674f0e1ae62",
   "metadata": {},
   "source": [
    "Θα ξεκινήσουμε __αρχικοποιώντας__ τα δεδομένα που απαιτούνται για την __δημιουργία__, __εκπαίδευση__ και __δοκιμή__ του _μοντέλου μηχανικής μάθησης_. Αυτό περιλαμβάνει 2 στάδια:\n",
    "* __Κατέβασμα μουσικής__ από το <a href=\"https://www.youtube.com/\">YouTube</a>\n",
    "* __Μετατροπή αρχείων__ σε κατάλληλα _δεδομένα εισόδου_ για το μοντέλο, τα οποία λέγονται __φασματογραφήματα__ (<a href=\"https://en.wikipedia.org/wiki/Spectrogram#:~:text=A%20spectrogram%20is%20a%20visual,sonographs%2C%20voiceprints%2C%20or%20voicegrams.\">spectograms</a>)"
   ]
  },
  {
   "cell_type": "markdown",
   "id": "a711c84d-dc92-4f20-a17f-9a92e9e237cd",
   "metadata": {},
   "source": [
    "# Κατέβασμα Μουσικής 🎵"
   ]
  },
  {
   "cell_type": "markdown",
   "id": "27aeff38-92d1-418e-9d5d-64adaf94327a",
   "metadata": {},
   "source": [
    "Αρχικά θα __κατεβάσουμε__ μερικά τραγούδια από το <a href=\"https://www.youtube.com/\">YouTube</a> και θα τα αποθηκεύσουμε στο __τοπικό__ μας __υπολογιστή__. Τα είδη μουσικής με τα οποία θα δουλέψουμε είναι __4__ και συγκεκριμένα:\n",
    "* Κλασσική μουσική\n",
    "* Hiphop \n",
    "* Rock \n",
    "* Blues\n",
    "\n",
    "Θα φροντίσουμε να κατεβάσουμε κάποιο συγκεκριμένο __αριθμό__ από __τραγούδια__ της κάθε __κατηγορίας__, προκειμένου να έχουμε μία πληθώρα δεδομένων για __εκπαίδευση__, __εύρεση υπερπαραμέτρων__ και __αξιολόγηση__. Παρακάτω παρέχονται τα urls των τραγουδιών της κάθε κατηγορίας τα οποία θα επιχειρήσουμε να __κατεβάσουμε__ και __αποθηκεύσουμε__:\n",
    "\n",
    "1. __Κλασσική Μουσική__:\n",
    "    * https://youtu.be/P2l0lbn5TVg?si=fTahxcw74TFHNHx7\n",
    "    * https://youtu.be/axb48YrvRmw?si=xWaMK84SwdpwaUwm\n",
    "    * https://youtu.be/pIf2zL6aCig?si=dXo4awKw9V0kgm9R\n",
    "    * https://youtu.be/d_92G-Dgscw?si=7D7WEqfbyPxe57aR\n",
    "    * https://youtu.be/HAi5QGPk8sM?si=XTU7nFiZySLMBGjX\n",
    "2. __Hiphop__:\n",
    "    * https://youtu.be/Z4N8lzKNfy4?si=ijmn6SwC1hqJSUer\n",
    "    * https://youtu.be/toBTPGfurLc?si=b97u27GLTMesDA-0\n",
    "    * https://youtu.be/4nyld2SqleU?si=jvcy-vWaMf7uKjS6\n",
    "    * https://youtu.be/zI383uEwA6Q?si=D4MAKYsdcbY6uAZ0\n",
    "    * https://youtu.be/gZFmMoeU5m0?si=Zck7yD8bAvFaF7sb\n",
    "3. __Rock__:\n",
    "    * https://youtu.be/kXYiU_JCYtU?si=Z_a1JUTsqKvYo7zq\n",
    "    * https://youtu.be/8SbUC-UaAxE?si=pVUpGZF-FLXIlb9n\n",
    "    * https://youtu.be/Soa3gO7tL-c?si=zEAFCqrwD6bJssKU\n",
    "    * https://youtu.be/hTWKbfoikeg?si=ray8VvXsXtYElEi3\n",
    "    * https://youtu.be/0GXFXrXWoCM?si=i9g2H27-2xrKSfz-\n",
    "4. __Blues__:\n",
    "    * https://youtu.be/4zAThXFOy2c?si=iTnPGvDAyx68kylh\n",
    "    * https://youtu.be/71Gt46aX9Z4?si=OB55SPLrNpcpaduD\n",
    "    * https://youtu.be/OPHa2eHfsyE?si=E85IBLaG9G7aenD7\n",
    "    * https://youtu.be/SgXSomPE_FY?si=bV3Vz0xaWNw5yXl3\n",
    "    * https://youtu.be/ioOzsi9aHQQ?si=ak5LRrKlw4LRsGq5\n",
    "  \n",
    "Για να κατεβάσουμε μουσική από το διαδίκτυο θα χρησιμοποιήσουμε τη γλώσσα προγραμματισμού <a href=\"https://en.wikipedia.org/wiki/Python_(programming_language)\">Python</a> και ενός module ονόματι <a href=\"https://pypi.org/project/pafy/\">pafy</a>."
   ]
  },
  {
   "cell_type": "code",
   "execution_count": 4,
   "id": "cdb635a4-abaa-4769-ad8a-b12497c5b668",
   "metadata": {},
   "outputs": [
    {
     "ename": "ImportError",
     "evalue": "cannot import name 'Youtube' from 'pytube' (C:\\Users\\Antonis\\AppData\\Local\\Programs\\Python\\Python310\\lib\\site-packages\\pytube\\__init__.py)",
     "output_type": "error",
     "traceback": [
      "\u001b[1;31m---------------------------------------------------------------------------\u001b[0m",
      "\u001b[1;31mImportError\u001b[0m                               Traceback (most recent call last)",
      "Cell \u001b[1;32mIn[4], line 1\u001b[0m\n\u001b[1;32m----> 1\u001b[0m \u001b[38;5;28;01mfrom\u001b[39;00m \u001b[38;5;21;01mpytube\u001b[39;00m \u001b[38;5;28;01mimport\u001b[39;00m Youtube\n",
      "\u001b[1;31mImportError\u001b[0m: cannot import name 'Youtube' from 'pytube' (C:\\Users\\Antonis\\AppData\\Local\\Programs\\Python\\Python310\\lib\\site-packages\\pytube\\__init__.py)"
     ]
    }
   ],
   "source": [
    "from pytube import YouTube\n"
   ]
  },
  {
   "cell_type": "code",
   "execution_count": null,
   "id": "3d4c8f3c-416d-485c-9c4d-a20384ca2b75",
   "metadata": {},
   "outputs": [],
   "source": []
  }
 ],
 "metadata": {
  "kernelspec": {
   "display_name": "Python 3 (ipykernel)",
   "language": "python",
   "name": "python3"
  },
  "language_info": {
   "codemirror_mode": {
    "name": "ipython",
    "version": 3
   },
   "file_extension": ".py",
   "mimetype": "text/x-python",
   "name": "python",
   "nbconvert_exporter": "python",
   "pygments_lexer": "ipython3",
   "version": "3.10.8"
  }
 },
 "nbformat": 4,
 "nbformat_minor": 5
}
