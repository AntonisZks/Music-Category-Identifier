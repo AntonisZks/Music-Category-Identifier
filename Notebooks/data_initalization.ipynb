{
 "cells": [
  {
   "cell_type": "markdown",
   "id": "8b2b357b-0fb3-4c72-96cc-185a270b08bf",
   "metadata": {},
   "source": [
    "<h1><center><b>Δημιουργία Δεδομένων Μοντέλου</b></center></h1>"
   ]
  },
  {
   "cell_type": "markdown",
   "id": "e6786c37-8e14-4079-851d-1674f0e1ae62",
   "metadata": {},
   "source": [
    "Θα ξεκινήσουμε __αρχικοποιώντας__ τα δεδομένα που απαιτούνται για την __δημιουργία__, __εκπαίδευση__ και __δοκιμή__ του _μοντέλου μηχανικής μάθησης_. Αυτό περιλαμβάνει 2 στάδια:\n",
    "* __Κατέβασμα μουσικής__ από το <a href=\"https://www.youtube.com/\">YouTube</a>\n",
    "* __Μετατροπή αρχείων__ σε κατάλληλα _δεδομένα εισόδου_ για το μοντέλο, τα οποία λέγονται __φασματογραφήματα__ (<a href=\"https://en.wikipedia.org/wiki/Spectrogram#:~:text=A%20spectrogram%20is%20a%20visual,sonographs%2C%20voiceprints%2C%20or%20voicegrams.\">spectograms</a>)"
   ]
  },
  {
   "cell_type": "markdown",
   "id": "a711c84d-dc92-4f20-a17f-9a92e9e237cd",
   "metadata": {},
   "source": [
    "# Κατέβασμα Μουσικής"
   ]
  },
  {
   "cell_type": "markdown",
   "id": "27aeff38-92d1-418e-9d5d-64adaf94327a",
   "metadata": {},
   "source": [
    "Αρχικά θα __κατεβάσουμε__ μερικά τραγούδια από το <a href=\"https://www.youtube.com/\">YouTube</a> και θα τα αποθηκεύσουμε στο __τοπικό__ μας __υπολογιστή__. Τα είδη μουσικής με τα οποία θα δουλέψουμε είναι __4__ και συγκεκριμένα:\n",
    "* Κλασσική μουσική\n",
    "* Hiphop \n",
    "* Rock \n",
    "* Blues\n",
    "\n",
    "Θα φροντίσουμε να κατεβάσουμε κάποιο συγκεκριμένο __αριθμό__ από __τραγούδια__ της κάθε __κατηγορίας__, προκειμένου να έχουμε μία πληθώρα δεδομένων για __εκπαίδευση__, __εύρεση υπερπαραμέτρων__ και __αξιολόγηση__. Παρακάτω παρέχονται τα urls των τραγουδιών της κάθε κατηγορίας τα οποία θα επιχειρήσουμε να __κατεβάσουμε__ και __αποθηκεύσουμε__:\n",
    "\n",
    "1. __Κλασσική Μουσική__:\n",
    "    * https://youtu.be/P2l0lbn5TVg?si=fTahxcw74TFHNHx7\n",
    "    * https://youtu.be/axb48YrvRmw?si=xWaMK84SwdpwaUwm\n",
    "    * https://youtu.be/pIf2zL6aCig?si=dXo4awKw9V0kgm9R\n",
    "    * https://youtu.be/d_92G-Dgscw?si=7D7WEqfbyPxe57aR\n",
    "    * https://youtu.be/HAi5QGPk8sM?si=XTU7nFiZySLMBGjX\n",
    "2. __Hiphop__:\n",
    "    * https://youtu.be/Z4N8lzKNfy4?si=ijmn6SwC1hqJSUer\n",
    "    * https://youtu.be/toBTPGfurLc?si=b97u27GLTMesDA-0\n",
    "    * https://youtu.be/4nyld2SqleU?si=jvcy-vWaMf7uKjS6\n",
    "    * https://youtu.be/zI383uEwA6Q?si=D4MAKYsdcbY6uAZ0\n",
    "    * https://youtu.be/gZFmMoeU5m0?si=Zck7yD8bAvFaF7sb\n",
    "3. __Rock__:\n",
    "    * https://youtu.be/kXYiU_JCYtU?si=Z_a1JUTsqKvYo7zq\n",
    "    * https://youtu.be/8SbUC-UaAxE?si=pVUpGZF-FLXIlb9n\n",
    "    * https://youtu.be/Soa3gO7tL-c?si=zEAFCqrwD6bJssKU\n",
    "    * https://youtu.be/hTWKbfoikeg?si=ray8VvXsXtYElEi3\n",
    "    * https://youtu.be/0GXFXrXWoCM?si=i9g2H27-2xrKSfz-\n",
    "4. __Blues__:\n",
    "    * https://youtu.be/4zAThXFOy2c?si=iTnPGvDAyx68kylh\n",
    "    * https://youtu.be/71Gt46aX9Z4?si=OB55SPLrNpcpaduD\n",
    "    * https://youtu.be/OPHa2eHfsyE?si=E85IBLaG9G7aenD7\n",
    "    * https://youtu.be/SgXSomPE_FY?si=bV3Vz0xaWNw5yXl3\n",
    "    * https://youtu.be/ioOzsi9aHQQ?si=ak5LRrKlw4LRsGq5\n",
    "\n",
    "Τα παραπάνω urls έχουν αποθηκευτεί στο φάκελο `/Data/Songs_urls/`, το κάθε ένα στο δικό του υποφάκελο ο οποίος αντιπροσωπεύει την κατηγορία στην οποία ανήκει. Σε όλο το project θα χρησιμοποιήσουμε τη γλώσσα προγραμματισμού <a href=\"https://en.wikipedia.org/wiki/Python_(programming_language)\">Python</a>.\n",
    "\n",
    "Αρχικά θα προσθέσουμε μία συνάρτηση η οποία λειτουργεί ως βοήθεια στο να εντοπίζουμε αυτόματα ολόκληρο το μονοπάτι ενός προορισμού στο εκάστωτε σύστημα. Η συνάρτηση αυτή έχει προμηθευτεί από το <a href=\"https://stackoverflow.com/\">StackOverflow</a> και συγκεκριμένα από το σύνδεσμο:\n",
    "\n",
    "https://stackoverflow.com/questions/31836104/pyinstaller-and-onefile-how-to-include-an-image-in-the-exe-file"
   ]
  },
  {
   "cell_type": "code",
   "execution_count": 28,
   "id": "5623af9e-cc03-4fea-8428-77e48665b098",
   "metadata": {},
   "outputs": [],
   "source": [
    "import os\n",
    "\n",
    "def resource_path(relative_path):\n",
    "    \"\"\" Supporting function to receive the full path of a destination, on the current system. Provided from: \n",
    "        https://stackoverflow.com/questions/31836104/pyinstaller-and-onefile-how-to-include-an-image-in-the-exe-file \"\"\"\n",
    "    \n",
    "    try:\n",
    "        base_path = sys._MEIPASS2\n",
    "    except Exception:\n",
    "        base_path = os.path.abspath(\".\")\n",
    "\n",
    "    return os.path.join(base_path, relative_path)"
   ]
  },
  {
   "cell_type": "markdown",
   "id": "50174503-4618-44f3-a3e4-047d2691dd4d",
   "metadata": {},
   "source": [
    "Για να κατεβάσουμε μουσική από το διαδίκτυο θα χρησιμοποιήσουμε ένα module ονόματι <a href=\"https://pytube.io/en/latest/\">pytube</a>. Ας δημιουργήσουμε μία __συνάρτηση__ `download_music()` η οποία δοσμένου ενός _youtube url_ κατεβάζει το αντίστοιχο βίντεο και το αποθηκέυει σε μορφή __.mp3__ στο φάκελο `/Data/Music/`"
   ]
  },
  {
   "cell_type": "code",
   "execution_count": 83,
   "id": "3d4c8f3c-416d-485c-9c4d-a20384ca2b75",
   "metadata": {},
   "outputs": [],
   "source": [
    "from pytube import YouTube\n",
    "import os\n",
    "\n",
    "def download_music(url: str, category: str) -> bool:\n",
    "    \"\"\" Downloads a youtube video from YouTube according to its given url, and saves it \n",
    "        in a .mp3 format \"\"\"\n",
    "\n",
    "    with open(resource_path(f'../Data/Music/downloaded.txt'), 'r') as fp:\n",
    "        lines = fp.readlines()\n",
    "        for downloaded_url in lines:\n",
    "            #print(downloaded_url, url)\n",
    "            if downloaded_url == url:\n",
    "                return False\n",
    "    \n",
    "    # Create a YouTube object and pass the given video url, and extract only its audio\n",
    "    yt = YouTube(url)\n",
    "    video = yt.streams.filter(only_audio=True).first()\n",
    "\n",
    "    # Download the mp3 file in an appropriate destination\n",
    "    out_file = video.download(output_path=resource_path(f\"..\\\\Data\\\\Music\\\\{category}\"))\n",
    "\n",
    "    # Save the file\n",
    "    base, ext = os.path.splitext(out_file) \n",
    "    new_file = base + '.mp3'\n",
    "    os.rename(out_file, new_file)\n",
    "\n",
    "    with open(resource_path(f'../Data/Music/downloaded.txt'), 'a') as fp:\n",
    "        fp.write(url)\n",
    "\n",
    "    return True"
   ]
  },
  {
   "cell_type": "markdown",
   "id": "9f0a2f98-3e45-48e9-8858-6c74ed66de94",
   "metadata": {},
   "source": [
    "Στη συνέχεια θα διατρέξουμε τα αποθηκευμένα urls και θα κατεβάσουμε τα τραγούδια τους χρησιμοποιώντας τη παραπάνω συνάρτηση."
   ]
  },
  {
   "cell_type": "code",
   "execution_count": 86,
   "id": "ea782469-0496-4602-a75f-6c1f8acf7999",
   "metadata": {},
   "outputs": [
    {
     "name": "stdout",
     "output_type": "stream",
     "text": [
      "Download Process Done!\n"
     ]
    }
   ],
   "source": [
    "import os\n",
    "\n",
    "# Define a list with the categories we have\n",
    "CATEGORIES_NAMES = ['blues', 'classical', 'hiphop', 'rock']\n",
    "CATEGORIES_CODES = ['0', '1', '2', '3']\n",
    "\n",
    "# Loop through every url of every category and download its video from youtube abd save it as an mp3 format\n",
    "for category, code in zip(CATEGORIES_NAMES, CATEGORIES_CODES):\n",
    "    with open(resource_path(f'../Data/Songs_urls/{category}.txt'), 'r') as fp:\n",
    "        for url in fp.readlines():\n",
    "            download_music(url, category)\n",
    "\n",
    "print(\"Download Process Done!\")"
   ]
  },
  {
   "cell_type": "markdown",
   "id": "259656b3-002b-4e77-b2e7-f5ea0c26d0ff",
   "metadata": {},
   "source": [
    "# Μετατροπή Αρχείων σε Φασματογραφήματα (Spectograms)"
   ]
  },
  {
   "cell_type": "markdown",
   "id": "95454423-b374-4e96-b62b-9e7b0c61f735",
   "metadata": {},
   "source": [
    "Έχοντας κατεβάσει επιτυχώς τα τραγούδια μας θα τα __μετασχηματίσουμε__ σε κατάλληλη __μορφή__ για την είσοδο του μοντέλου μας. Αυτή η μορφή λέγεται __<a href=\"https://en.wikipedia.org/wiki/Spectrogram#:~:text=A%20spectrogram%20is%20a%20visual,sonographs%2C%20voiceprints%2C%20or%20voicegrams.\">φασματογράφημα</a>__."
   ]
  },
  {
   "cell_type": "code",
   "execution_count": null,
   "id": "a4ee1728-261c-4ffa-bb39-b7a7f919c5e7",
   "metadata": {},
   "outputs": [],
   "source": []
  }
 ],
 "metadata": {
  "kernelspec": {
   "display_name": "Python 3 (ipykernel)",
   "language": "python",
   "name": "python3"
  },
  "language_info": {
   "codemirror_mode": {
    "name": "ipython",
    "version": 3
   },
   "file_extension": ".py",
   "mimetype": "text/x-python",
   "name": "python",
   "nbconvert_exporter": "python",
   "pygments_lexer": "ipython3",
   "version": "3.10.8"
  }
 },
 "nbformat": 4,
 "nbformat_minor": 5
}
